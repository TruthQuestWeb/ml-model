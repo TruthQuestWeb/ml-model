{
 "cells": [
  {
   "cell_type": "code",
   "execution_count": 4,
   "metadata": {},
   "outputs": [],
   "source": [
    "import pandas"
   ]
  },
  {
   "attachments": {},
   "cell_type": "markdown",
   "metadata": {},
   "source": [
    "Sanitize the news.csv data and edit the fake and real label to 1 and 0 respectively.\n",
    "News.csv is provided by Project: Detecting Fake News With Python and Machine Learning by Max Health\n",
    "Fake.csv and True.csv is provided by University of Victoria ISOT Research Lab"
   ]
  },
  {
   "cell_type": "code",
   "execution_count": 13,
   "metadata": {},
   "outputs": [
    {
     "name": "stdout",
     "output_type": "stream",
     "text": [
      "      Unnamed: 0                                              title  \\\n",
      "0           8476                       You Can Smell Hillary’s Fear   \n",
      "1          10294  Watch The Exact Moment Paul Ryan Committed Pol...   \n",
      "2           3608        Kerry to go to Paris in gesture of sympathy   \n",
      "3          10142  Bernie supporters on Twitter erupt in anger ag...   \n",
      "4            875   The Battle of New York: Why This Primary Matters   \n",
      "...          ...                                                ...   \n",
      "6330        4490  State Department says it can't find emails fro...   \n",
      "6331        8062  The ‘P’ in PBS Should Stand for ‘Plutocratic’ ...   \n",
      "6332        8622  Anti-Trump Protesters Are Tools of the Oligarc...   \n",
      "6333        4021  In Ethiopia, Obama seeks progress on peace, se...   \n",
      "6334        4330  Jeb Bush Is Suddenly Attacking Trump. Here's W...   \n",
      "\n",
      "                                                   text label  \n",
      "0     Daniel Greenfield, a Shillman Journalism Fello...  FAKE  \n",
      "1     Google Pinterest Digg Linkedin Reddit Stumbleu...  FAKE  \n",
      "2     U.S. Secretary of State John F. Kerry said Mon...  REAL  \n",
      "3     — Kaydee King (@KaydeeKing) November 9, 2016 T...  FAKE  \n",
      "4     It's primary day in New York and front-runners...  REAL  \n",
      "...                                                 ...   ...  \n",
      "6330  The State Department told the Republican Natio...  REAL  \n",
      "6331  The ‘P’ in PBS Should Stand for ‘Plutocratic’ ...  FAKE  \n",
      "6332   Anti-Trump Protesters Are Tools of the Oligar...  FAKE  \n",
      "6333  ADDIS ABABA, Ethiopia —President Obama convene...  REAL  \n",
      "6334  Jeb Bush Is Suddenly Attacking Trump. Here's W...  REAL  \n",
      "\n",
      "[6335 rows x 4 columns]\n",
      "Index(['Unnamed: 0', 'title', 'text', 'label'], dtype='object')\n",
      "(6335, 4)\n",
      "   Unnamed: 0                                              title  \\\n",
      "0        8476                       You Can Smell Hillary’s Fear   \n",
      "1       10294  Watch The Exact Moment Paul Ryan Committed Pol...   \n",
      "2        3608        Kerry to go to Paris in gesture of sympathy   \n",
      "3       10142  Bernie supporters on Twitter erupt in anger ag...   \n",
      "4         875   The Battle of New York: Why This Primary Matters   \n",
      "\n",
      "                                                text label  \n",
      "0  Daniel Greenfield, a Shillman Journalism Fello...     1  \n",
      "1  Google Pinterest Digg Linkedin Reddit Stumbleu...     1  \n",
      "2  U.S. Secretary of State John F. Kerry said Mon...     0  \n",
      "3  — Kaydee King (@KaydeeKing) November 9, 2016 T...     1  \n",
      "4  It's primary day in New York and front-runners...     0  \n"
     ]
    }
   ],
   "source": [
    "df = pandas.read_csv('news.csv')\n",
    "print(df)\n",
    "\n",
    "#Get all the columns from the dataframe\n",
    "print(df.columns)\n",
    "\n",
    "#If the label is FAKE, then change it to 1, else change it to 0\n",
    "df.loc[df['label'] == 'FAKE', 'label'] = 1\n",
    "df.loc[df['label'] == 'REAL', 'label'] = 0\n",
    "\n",
    "#Get the shape and head of the dataframe\n",
    "print(df.shape)\n",
    "print(df.head())\n",
    "\n",
    "df.to_csv('updated_news.csv', index=False)"
   ]
  },
  {
   "attachments": {},
   "cell_type": "markdown",
   "metadata": {},
   "source": [
    "Updating the next data from Fake and True .csv files"
   ]
  },
  {
   "cell_type": "code",
   "execution_count": 12,
   "metadata": {},
   "outputs": [
    {
     "name": "stdout",
     "output_type": "stream",
     "text": [
      "Real news:  (21417, 4)\n",
      "Fake News:  (23481, 4)\n",
      "(44898, 4)\n",
      "                                                   title  \\\n",
      "8941   Top U.S. Senate Democrat says he will support ...   \n",
      "19515  LIBERALS BELIEVE: “OBAMA TOO BRILLIANT FOR REP...   \n",
      "17160  Japan ruling coalition seen winning around two...   \n",
      "19242  Few ideas, less hope leave Syria crisis on bac...   \n",
      "18872  Turkey says air force kills 13 in north Iraq a...   \n",
      "\n",
      "                                                    text       subject  label  \n",
      "8941   WASHINGTON (Reuters) - Senate Democratic leade...  politicsNews      0  \n",
      "19515  Which brings me to President Obama. While I m ...     left-news      1  \n",
      "17160  TOKYO (Reuters) - Japanese Prime Minister Shin...     worldnews      0  \n",
      "19242  UNITED NATIONS (Reuters) - At the entrance to ...     worldnews      0  \n",
      "18872  ANKARA (Reuters) - Turkish jets struck a targe...     worldnews      0  \n"
     ]
    }
   ],
   "source": [
    "real = pandas.read_csv('True.csv')\n",
    "fake = pandas.read_csv('Fake.csv')\n",
    "\n",
    "#Shape of real news dataset\n",
    "print(\"Real news: \",real.shape)\n",
    "#Shape of fake news dataset\n",
    "print(\"Fake News: \", fake.shape)\n",
    "\n",
    "#Add a label column in the real news dataset and set it to 0s\n",
    "real['label'] = 0\n",
    "#Add a label column in the fake news dataset and set it to 1s\n",
    "fake['label'] = 1\n",
    "\n",
    "\n",
    "#Combien the two datasets\n",
    "total = pandas.concat([real,fake])\n",
    "total = total.sample(frac = 1)\n",
    "\n",
    "#Drop the date column\n",
    "total = total.drop(columns=['date'])\n",
    "\n",
    "print(total.shape)\n",
    "print(total.head())\n",
    "\n",
    "\n",
    "total.to_csv('updated_news2.csv', index=False)"
   ]
  }
 ],
 "metadata": {
  "kernelspec": {
   "display_name": "Python 3",
   "language": "python",
   "name": "python3"
  },
  "language_info": {
   "codemirror_mode": {
    "name": "ipython",
    "version": 3
   },
   "file_extension": ".py",
   "mimetype": "text/x-python",
   "name": "python",
   "nbconvert_exporter": "python",
   "pygments_lexer": "ipython3",
   "version": "3.11.1"
  },
  "orig_nbformat": 4,
  "vscode": {
   "interpreter": {
    "hash": "436afdb210ffdd219725fbfb3abcdc37986f67fa81f730c764ecfd3547b12b0a"
   }
  }
 },
 "nbformat": 4,
 "nbformat_minor": 2
}
