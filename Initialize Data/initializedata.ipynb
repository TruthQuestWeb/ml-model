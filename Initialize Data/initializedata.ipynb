{
 "cells": [
  {
   "cell_type": "code",
   "execution_count": 1,
   "metadata": {},
   "outputs": [],
   "source": [
    "import pandas"
   ]
  },
  {
   "attachments": {},
   "cell_type": "markdown",
   "metadata": {},
   "source": [
    "Sanitize the news.csv data and edit the fake and real label to 1 and 0 respectively.\n",
    "News.csv is provided by Project: Detecting Fake News With Python and Machine Learning by Max Health\n",
    "Fake.csv and True.csv is provided by University of Victoria ISOT Research Lab"
   ]
  },
  {
   "cell_type": "code",
   "execution_count": 2,
   "metadata": {},
   "outputs": [
    {
     "name": "stdout",
     "output_type": "stream",
     "text": [
      "      Unnamed: 0                                              title  \\\n",
      "0           8476                       You Can Smell Hillary’s Fear   \n",
      "1          10294  Watch The Exact Moment Paul Ryan Committed Pol...   \n",
      "2           3608        Kerry to go to Paris in gesture of sympathy   \n",
      "3          10142  Bernie supporters on Twitter erupt in anger ag...   \n",
      "4            875   The Battle of New York: Why This Primary Matters   \n",
      "...          ...                                                ...   \n",
      "6330        4490  State Department says it can't find emails fro...   \n",
      "6331        8062  The ‘P’ in PBS Should Stand for ‘Plutocratic’ ...   \n",
      "6332        8622  Anti-Trump Protesters Are Tools of the Oligarc...   \n",
      "6333        4021  In Ethiopia, Obama seeks progress on peace, se...   \n",
      "6334        4330  Jeb Bush Is Suddenly Attacking Trump. Here's W...   \n",
      "\n",
      "                                                   text label  \n",
      "0     Daniel Greenfield, a Shillman Journalism Fello...  FAKE  \n",
      "1     Google Pinterest Digg Linkedin Reddit Stumbleu...  FAKE  \n",
      "2     U.S. Secretary of State John F. Kerry said Mon...  REAL  \n",
      "3     — Kaydee King (@KaydeeKing) November 9, 2016 T...  FAKE  \n",
      "4     It's primary day in New York and front-runners...  REAL  \n",
      "...                                                 ...   ...  \n",
      "6330  The State Department told the Republican Natio...  REAL  \n",
      "6331  The ‘P’ in PBS Should Stand for ‘Plutocratic’ ...  FAKE  \n",
      "6332   Anti-Trump Protesters Are Tools of the Oligar...  FAKE  \n",
      "6333  ADDIS ABABA, Ethiopia —President Obama convene...  REAL  \n",
      "6334  Jeb Bush Is Suddenly Attacking Trump. Here's W...  REAL  \n",
      "\n",
      "[6335 rows x 4 columns]\n",
      "Index(['Unnamed: 0', 'title', 'text', 'label'], dtype='object')\n",
      "(6335, 4)\n",
      "   Unnamed: 0                                              title  \\\n",
      "0        8476                       You Can Smell Hillary’s Fear   \n",
      "1       10294  Watch The Exact Moment Paul Ryan Committed Pol...   \n",
      "2        3608        Kerry to go to Paris in gesture of sympathy   \n",
      "3       10142  Bernie supporters on Twitter erupt in anger ag...   \n",
      "4         875   The Battle of New York: Why This Primary Matters   \n",
      "\n",
      "                                                text label  \n",
      "0  Daniel Greenfield, a Shillman Journalism Fello...     1  \n",
      "1  Google Pinterest Digg Linkedin Reddit Stumbleu...     1  \n",
      "2  U.S. Secretary of State John F. Kerry said Mon...     0  \n",
      "3  — Kaydee King (@KaydeeKing) November 9, 2016 T...     1  \n",
      "4  It's primary day in New York and front-runners...     0  \n"
     ]
    }
   ],
   "source": [
    "df = pandas.read_csv('news.csv')\n",
    "print(df)\n",
    "\n",
    "#Get all the columns from the dataframe\n",
    "print(df.columns)\n",
    "\n",
    "#If the label is FAKE, then change it to 1, else change it to 0\n",
    "df.loc[df['label'] == 'FAKE', 'label'] = 1\n",
    "df.loc[df['label'] == 'REAL', 'label'] = 0\n",
    "\n",
    "#Get the shape and head of the dataframe\n",
    "print(df.shape)\n",
    "print(df.head())\n",
    "\n",
    "df.to_csv('updated_news.csv', index=False)"
   ]
  },
  {
   "attachments": {},
   "cell_type": "markdown",
   "metadata": {},
   "source": [
    "Updating the next data from Fake and True .csv files"
   ]
  },
  {
   "cell_type": "code",
   "execution_count": 3,
   "metadata": {},
   "outputs": [
    {
     "name": "stdout",
     "output_type": "stream",
     "text": [
      "Real news:  (21417, 4)\n",
      "Fake News:  (23481, 4)\n",
      "(44898, 4)\n",
      "                                                   title  \\\n",
      "17861  EU to review Brexit approach if no deal by Dec...   \n",
      "15228  U.S. blacklists 10 Venezuelans for corruption,...   \n",
      "14454  BLACK LIVES MATTER ORGANIZER Refuses To Meet W...   \n",
      "11930  Thai junta says to allow parties to get ready ...   \n",
      "15460  Trump to give major North Korea speech, then p...   \n",
      "\n",
      "                                                    text    subject  label  \n",
      "17861  BRUSSELS (Reuters) - The European Union will h...  worldnews      0  \n",
      "15228  WASHINGTON (Reuters) - The U.S. Treasury Depar...  worldnews      0  \n",
      "14454  Pure gold The ultimate Race-Baiter-In-Chief, j...   politics      1  \n",
      "11930  BANGKOK (Reuters) - Thai Prime Minister Prayut...  worldnews      0  \n",
      "15460  SEOUL (Reuters) - President Donald Trump will ...  worldnews      0  \n",
      "(51233, 5)\n"
     ]
    }
   ],
   "source": [
    "real = pandas.read_csv('True.csv')\n",
    "fake = pandas.read_csv('Fake.csv')\n",
    "\n",
    "#Shape of real news dataset\n",
    "print(\"Real news: \",real.shape)\n",
    "#Shape of fake news dataset\n",
    "print(\"Fake News: \", fake.shape)\n",
    "\n",
    "#Add a label column in the real news dataset and set it to 0s\n",
    "real['label'] = 0\n",
    "#Add a label column in the fake news dataset and set it to 1s\n",
    "fake['label'] = 1\n",
    "\n",
    "\n",
    "#Combien the two datasets\n",
    "total = pandas.concat([real,fake])\n",
    "total = total.sample(frac = 1)\n",
    "\n",
    "#Drop the date column\n",
    "total = total.drop(columns=['date'])\n",
    "\n",
    "print(total.shape)\n",
    "print(total.head())\n",
    "\n",
    "\n",
    "total.to_csv('updated_news2.csv', index=False)\n",
    "\n",
    "#Combine df to total\n",
    "total = pandas.concat([total,df])\n",
    "\n",
    "\n",
    "#Go through each row and remove punctuation\n",
    "for index, row in total.iterrows():\n",
    "    row['title'] = row['title'].replace('[^\\w\\s]','')\n",
    "    row['text'] = row['text'].replace('[^\\w\\s]','')\n",
    "    #Also lowercase the text\n",
    "    row['title'] = row['title'].lower()\n",
    "    row['text'] = row['text'].lower()\n",
    "\n",
    "#Save the new dataset\n",
    "total.to_csv('updated_updated_news.csv', index=False)\n",
    "\n",
    "print(total.shape)"
   ]
  }
 ],
 "metadata": {
  "kernelspec": {
   "display_name": "Python 3",
   "language": "python",
   "name": "python3"
  },
  "language_info": {
   "codemirror_mode": {
    "name": "ipython",
    "version": 3
   },
   "file_extension": ".py",
   "mimetype": "text/x-python",
   "name": "python",
   "nbconvert_exporter": "python",
   "pygments_lexer": "ipython3",
   "version": "3.11.1"
  },
  "orig_nbformat": 4,
  "vscode": {
   "interpreter": {
    "hash": "436afdb210ffdd219725fbfb3abcdc37986f67fa81f730c764ecfd3547b12b0a"
   }
  }
 },
 "nbformat": 4,
 "nbformat_minor": 2
}
